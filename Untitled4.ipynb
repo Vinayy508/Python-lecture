{
  "nbformat": 4,
  "nbformat_minor": 0,
  "metadata": {
    "colab": {
      "provenance": [],
      "toc_visible": true,
      "authorship_tag": "ABX9TyOfhIyzF/yYmuynwQPiIL73",
      "include_colab_link": true
    },
    "kernelspec": {
      "name": "python3",
      "display_name": "Python 3"
    },
    "language_info": {
      "name": "python"
    }
  },
  "cells": [
    {
      "cell_type": "markdown",
      "metadata": {
        "id": "view-in-github",
        "colab_type": "text"
      },
      "source": [
        "<a href=\"https://colab.research.google.com/github/Vinayy508/Python-lecture/blob/main/Untitled4.ipynb\" target=\"_parent\"><img src=\"https://colab.research.google.com/assets/colab-badge.svg\" alt=\"Open In Colab\"/></a>"
      ]
    },
    {
      "cell_type": "code",
      "execution_count": null,
      "metadata": {
        "colab": {
          "base_uri": "https://localhost:8080/"
        },
        "id": "n7QfyvWYDy0L",
        "outputId": "98ee3e66-d0ae-4be1-bc1c-4ca8ca0d1f59"
      },
      "outputs": [
        {
          "output_type": "stream",
          "name": "stdout",
          "text": [
            "set your password : vinay\n",
            "enter your password: v\n",
            "wrong password..try 2 more time out of 2\n",
            "enter password again: s\n",
            "wrong password...try 1 more time 1\n",
            "enter a password again: vinay\n",
            "start with MCQ exam\n",
            " 1. who invented java programming?\n",
            "        1.) Guido van Rossum\n",
            "        2.) james Gosling\n",
            "        3.) Dennis Ritchie\n",
            "        4.) Bjarne Stroustrup\n",
            "select answer : 2\n",
            "corect answer continue...\n",
            "2. which component is used to compile,debug and execute the java programs?\n",
            "          1.) JRE\n",
            "          2.) JIT\n",
            "          3.) JDK\n",
            "          4.) JVM\n",
            "select answer : 2\n",
            "correct answer..continue\n"
          ]
        }
      ],
      "source": [
        "a=input('set your password : ')\n",
        "start=input('enter your password: ')\n",
        "if(a!=start):\n",
        "  print('wrong password..try 2 more time out of 2')\n",
        "  start=input(\"enter password again: \")\n",
        "  if(a!=start):\n",
        "    print('wrong password...try 1 more time 1')\n",
        "    start=input('enter a password again: ')\n",
        "    if(a!=start):\n",
        "      print('wrong password..try o more time o')\n",
        "else:\n",
        "  print('user select right password')\n",
        "\n",
        "if(a==start):\n",
        "  print('start with MCQ exam')\n",
        "  print(\"\"\" 1. who invented java programming?\n",
        "        1.) Guido van Rossum\n",
        "        2.) james Gosling\n",
        "        3.) Dennis Ritchie\n",
        "        4.) Bjarne Stroustrup\"\"\")\n",
        "  choise=int(input('select answer : '))\n",
        "  if(choise==2):\n",
        "    print('corect answer continue...')\n",
        "    print(\"\"\"2. which component is used to compile,debug and execute the java programs?\n",
        "          1.) JRE\n",
        "          2.) JIT\n",
        "          3.) JDK\n",
        "          4.) JVM\"\"\")\n",
        "    choise=int(input('select answer : '))\n",
        "    if(choise==2):\n",
        "      print('correct answer..continue')\n",
        "    else:\n",
        "      print('wrong answer tata bye bye')\n",
        "  else:\n",
        "    print('wrong answer Try Next year')\n"
      ]
    },
    {
      "cell_type": "markdown",
      "source": [
        "# New Section"
      ],
      "metadata": {
        "id": "aTtn8JpdFOyP"
      }
    }
  ]
}